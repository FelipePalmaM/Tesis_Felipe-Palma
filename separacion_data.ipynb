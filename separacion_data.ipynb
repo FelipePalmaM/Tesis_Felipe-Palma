{
  "nbformat": 4,
  "nbformat_minor": 0,
  "metadata": {
    "colab": {
      "provenance": []
    },
    "kernelspec": {
      "name": "python3",
      "display_name": "Python 3"
    },
    "language_info": {
      "name": "python"
    }
  },
  "cells": [
    {
      "cell_type": "code",
      "execution_count": null,
      "metadata": {
        "id": "InLPB6N-1EBU"
      },
      "outputs": [],
      "source": [
        "import os\n",
        "import cv2\n",
        "import pickle\n",
        "import numpy as np\n",
        "import pandas as pd\n",
        "import random\n",
        "import shutil\n",
        "from tqdm import tqdm\n",
        "import tensorflow as tf\n",
        "from tensorflow.keras.applications import ResNet50\n",
        "from tensorflow.keras.layers import Dense, Flatten, RandomRotation, RandomFlip, Resizing, Rescaling,Input\n",
        "from keras.models import Sequential,Model\n",
        "from keras.preprocessing.image import ImageDataGenerator\n",
        "from sklearn.model_selection import train_test_split\n",
        "from sklearn.metrics import accuracy_score\n",
        "from keras.models import save_model\n",
        "from tensorflow.keras import layers, models\n",
        "\n",
        "import glob"
      ]
    },
    {
      "cell_type": "code",
      "source": [
        "import pathlib"
      ],
      "metadata": {
        "id": "YtYNP-kIOSDn"
      },
      "execution_count": null,
      "outputs": []
    },
    {
      "cell_type": "code",
      "source": [],
      "metadata": {
        "id": "oXVDYfIrNgFL"
      },
      "execution_count": null,
      "outputs": []
    },
    {
      "cell_type": "code",
      "source": [
        "from PIL import Image"
      ],
      "metadata": {
        "id": "XEF9ug_HSpHY"
      },
      "execution_count": null,
      "outputs": []
    },
    {
      "cell_type": "code",
      "source": [
        "import os\n",
        "import shutil\n",
        "from sklearn.model_selection import train_test_split\n",
        "\n",
        "# Directorio principal\n",
        "main_dir1 = '/content/drive/MyDrive/224/prueba/Final'\n",
        "\n",
        "# Subdirectorios para train, val, test\n",
        "train_dir = os.path.join(main_dir1, 'train')\n",
        "val_dir = os.path.join(main_dir1, 'val')\n",
        "test_dir = os.path.join(main_dir1, 'test')\n",
        "\n",
        "# Lista de clases\n",
        "classes = ['DDH', 'Normal']\n",
        "\n",
        "# Crear directorios principales\n",
        "os.makedirs(main_dir1, exist_ok=True)\n",
        "os.makedirs(train_dir, exist_ok=True)\n",
        "os.makedirs(val_dir, exist_ok=True)\n",
        "os.makedirs(test_dir, exist_ok=True)\n",
        "main_dir = '/content/drive/MyDrive/224/prueba/'\n",
        "\n",
        "\n",
        "\n"
      ],
      "metadata": {
        "id": "bvR5coC5Oxi0"
      },
      "execution_count": null,
      "outputs": []
    },
    {
      "cell_type": "code",
      "source": [
        "for class_name in classes:\n",
        "    class_dir = os.path.join(main_dir, class_name)\n",
        "    images = os.listdir(class_dir)\n",
        "\n",
        "    # Dividir imágenes en train, val, test\n",
        "    train_images, test_val_images = train_test_split(images, test_size=0.7, random_state=42)\n",
        "    val_images, test_images = train_test_split(test_val_images, test_size=0.5, random_state=42)\n",
        "\n",
        "    # Crear subdirectorios para cada clase en train, val, test\n",
        "    train_class_dir = os.path.join(train_dir, class_name)\n",
        "    val_class_dir = os.path.join(val_dir, class_name)\n",
        "    test_class_dir = os.path.join(test_dir, class_name)\n",
        "\n",
        "    os.makedirs(train_class_dir, exist_ok=True)\n",
        "    os.makedirs(val_class_dir, exist_ok=True)\n",
        "    os.makedirs(test_class_dir, exist_ok=True)\n",
        "\n",
        "    # Copiar imágenes a los subdirectorios correspondientes\n",
        "    for image in train_images:\n",
        "        src_path = os.path.join(class_dir, image)\n",
        "        dst_path = os.path.join(train_class_dir, image)\n",
        "        shutil.copy(src_path, dst_path)\n",
        "\n",
        "    for image in val_images:\n",
        "        src_path = os.path.join(class_dir, image)\n",
        "        dst_path = os.path.join(val_class_dir, image)\n",
        "        shutil.copy(src_path, dst_path)\n",
        "\n",
        "    for image in test_images:\n",
        "        src_path = os.path.join(class_dir, image)\n",
        "        dst_path = os.path.join(test_class_dir, image)\n",
        "        shutil.copy(src_path, dst_path)"
      ],
      "metadata": {
        "id": "EvYUOZVGSF8s"
      },
      "execution_count": null,
      "outputs": []
    }
  ]
}